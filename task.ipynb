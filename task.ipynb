{
 "cells": [
  {
   "cell_type": "markdown",
   "id": "e9e90c49",
   "metadata": {},
   "source": [
    "В игре происходят бои. На бой игрок выставляет 4-х бойцов, каждый боец вооружен некоторым оружием. После того, как завершается бой, происходит запись информации об этом бое. \n",
    "\n",
    "Записываются:\n",
    "* Уникальный id боя.\n",
    "\n",
    "* Для каждого бойца тип оружия (4 столбца).\n",
    "\n",
    "* Длительность боя (в секундах).\n",
    "\n",
    "В некоторый момент были изменены настройки баланса оружия. Нужно понять, повлияло ли изменение настроек на длительность боя. Считаем, что длительность боя зависит только от комбинации 4-х оружий, сам порядок не важен. Например, 'меч, меч, лук, булава' и 'лук, меч, булава, меч' - одна и та же комбинация. Последний столбец в датасете - отметка о том, когда был совершен бой, до изменений в балансе или после.\n"
   ]
  },
  {
   "cell_type": "code",
   "execution_count": 71,
   "id": "a6c7de8d",
   "metadata": {},
   "outputs": [],
   "source": [
    "import pandas as pd\n",
    "import matplotlib.pyplot as plt\n",
    "import seaborn as sns\n",
    "from scipy import stats\n",
    "import numpy as np"
   ]
  },
  {
   "cell_type": "code",
   "execution_count": 72,
   "id": "4148a046",
   "metadata": {},
   "outputs": [],
   "source": [
    "df = pd.read_csv(r'C:\\Современные методы анализа данных\\analyst(my_games)_test\\data_test.csv', encoding='windows-1251')"
   ]
  },
  {
   "cell_type": "code",
   "execution_count": 73,
   "id": "7f82db37",
   "metadata": {},
   "outputs": [
    {
     "data": {
      "text/html": [
       "<div>\n",
       "<style scoped>\n",
       "    .dataframe tbody tr th:only-of-type {\n",
       "        vertical-align: middle;\n",
       "    }\n",
       "\n",
       "    .dataframe tbody tr th {\n",
       "        vertical-align: top;\n",
       "    }\n",
       "\n",
       "    .dataframe thead th {\n",
       "        text-align: right;\n",
       "    }\n",
       "</style>\n",
       "<table border=\"1\" class=\"dataframe\">\n",
       "  <thead>\n",
       "    <tr style=\"text-align: right;\">\n",
       "      <th></th>\n",
       "      <th>battle_id</th>\n",
       "      <th>unit_1</th>\n",
       "      <th>unit_2</th>\n",
       "      <th>unit_3</th>\n",
       "      <th>unit_4</th>\n",
       "      <th>len</th>\n",
       "      <th>balance_mark</th>\n",
       "    </tr>\n",
       "  </thead>\n",
       "  <tbody>\n",
       "    <tr>\n",
       "      <th>0</th>\n",
       "      <td>103921</td>\n",
       "      <td>топор</td>\n",
       "      <td>лук</td>\n",
       "      <td>булава</td>\n",
       "      <td>лук</td>\n",
       "      <td>17.35</td>\n",
       "      <td>before</td>\n",
       "    </tr>\n",
       "    <tr>\n",
       "      <th>1</th>\n",
       "      <td>117214</td>\n",
       "      <td>посох</td>\n",
       "      <td>посох</td>\n",
       "      <td>лук</td>\n",
       "      <td>лук</td>\n",
       "      <td>21.84</td>\n",
       "      <td>before</td>\n",
       "    </tr>\n",
       "    <tr>\n",
       "      <th>2</th>\n",
       "      <td>115502</td>\n",
       "      <td>меч</td>\n",
       "      <td>посох</td>\n",
       "      <td>булава</td>\n",
       "      <td>топор</td>\n",
       "      <td>16.00</td>\n",
       "      <td>before</td>\n",
       "    </tr>\n",
       "    <tr>\n",
       "      <th>3</th>\n",
       "      <td>110102</td>\n",
       "      <td>булава</td>\n",
       "      <td>лук</td>\n",
       "      <td>лук</td>\n",
       "      <td>булава</td>\n",
       "      <td>17.22</td>\n",
       "      <td>before</td>\n",
       "    </tr>\n",
       "    <tr>\n",
       "      <th>4</th>\n",
       "      <td>104989</td>\n",
       "      <td>меч</td>\n",
       "      <td>посох</td>\n",
       "      <td>булава</td>\n",
       "      <td>посох</td>\n",
       "      <td>19.20</td>\n",
       "      <td>before</td>\n",
       "    </tr>\n",
       "  </tbody>\n",
       "</table>\n",
       "</div>"
      ],
      "text/plain": [
       "   battle_id  unit_1 unit_2  unit_3  unit_4    len balance_mark\n",
       "0     103921   топор    лук  булава     лук  17.35       before\n",
       "1     117214   посох  посох     лук     лук  21.84       before\n",
       "2     115502     меч  посох  булава   топор  16.00       before\n",
       "3     110102  булава    лук     лук  булава  17.22       before\n",
       "4     104989     меч  посох  булава   посох  19.20       before"
      ]
     },
     "execution_count": 73,
     "metadata": {},
     "output_type": "execute_result"
    }
   ],
   "source": [
    "df.head()"
   ]
  },
  {
   "cell_type": "code",
   "execution_count": 74,
   "id": "d969b03f",
   "metadata": {},
   "outputs": [
    {
     "data": {
      "text/plain": [
       "(20000, 7)"
      ]
     },
     "execution_count": 74,
     "metadata": {},
     "output_type": "execute_result"
    }
   ],
   "source": [
    "df.shape"
   ]
  },
  {
   "cell_type": "code",
   "execution_count": 75,
   "id": "2b342a52",
   "metadata": {},
   "outputs": [
    {
     "name": "stdout",
     "output_type": "stream",
     "text": [
      "<class 'pandas.core.frame.DataFrame'>\n",
      "RangeIndex: 20000 entries, 0 to 19999\n",
      "Data columns (total 7 columns):\n",
      " #   Column        Non-Null Count  Dtype  \n",
      "---  ------        --------------  -----  \n",
      " 0   battle_id     20000 non-null  int64  \n",
      " 1   unit_1        20000 non-null  object \n",
      " 2   unit_2        20000 non-null  object \n",
      " 3   unit_3        20000 non-null  object \n",
      " 4   unit_4        20000 non-null  object \n",
      " 5   len           20000 non-null  float64\n",
      " 6   balance_mark  20000 non-null  object \n",
      "dtypes: float64(1), int64(1), object(5)\n",
      "memory usage: 1.1+ MB\n"
     ]
    }
   ],
   "source": [
    "df.info()"
   ]
  },
  {
   "cell_type": "code",
   "execution_count": 76,
   "id": "fdc09924",
   "metadata": {},
   "outputs": [
    {
     "data": {
      "text/plain": [
       "unit_1    5\n",
       "unit_2    5\n",
       "unit_3    5\n",
       "unit_4    5\n",
       "dtype: int64"
      ]
     },
     "execution_count": 76,
     "metadata": {},
     "output_type": "execute_result"
    }
   ],
   "source": [
    "# в каждой из 4 колонок unit_i - 5 уникальных значений\n",
    "df[['unit_1', 'unit_2', 'unit_3', 'unit_4']].nunique()"
   ]
  },
  {
   "cell_type": "code",
   "execution_count": 77,
   "id": "e86ef922",
   "metadata": {},
   "outputs": [
    {
     "data": {
      "text/plain": [
       "(array(['топор', 'посох', 'меч', 'булава', 'лук'], dtype=object),\n",
       " array(['лук', 'посох', 'меч', 'булава', 'топор'], dtype=object),\n",
       " array(['булава', 'лук', 'меч', 'топор', 'посох'], dtype=object),\n",
       " array(['лук', 'топор', 'булава', 'посох', 'меч'], dtype=object))"
      ]
     },
     "execution_count": 77,
     "metadata": {},
     "output_type": "execute_result"
    }
   ],
   "source": [
    "# уникальные значения\n",
    "df.unit_1.unique(), df.unit_2.unique(), df.unit_3.unique(), df.unit_4.unique()"
   ]
  },
  {
   "cell_type": "code",
   "execution_count": 78,
   "id": "eadcc8fa",
   "metadata": {},
   "outputs": [
    {
     "name": "stdout",
     "output_type": "stream",
     "text": [
      "20000\n",
      "20000\n",
      "20000\n",
      "20000\n"
     ]
    }
   ],
   "source": [
    "# Проверка, что в наборе данных все названия видов оружия имеют одинаковое правописание\n",
    "# (нет замены русских букв похожими английскими и т.д.)\n",
    "l = [df.unit_1, df.unit_2, df.unit_3, df.unit_4]\n",
    "for i in l:\n",
    "    print(len(df[i == 'булава']) +\n",
    "          len(df[i == 'посох']) +\n",
    "          len(df[i == 'меч']) +\n",
    "          len(df[i == 'лук']) +\n",
    "          len(df[i == 'топор']))"
   ]
  },
  {
   "cell_type": "code",
   "execution_count": 79,
   "id": "9884696f",
   "metadata": {},
   "outputs": [
    {
     "data": {
      "text/plain": [
       "(10000, 10000)"
      ]
     },
     "execution_count": 79,
     "metadata": {},
     "output_type": "execute_result"
    }
   ],
   "source": [
    "# длина выборок (до, после)\n",
    "len(df.len[df.balance_mark == 'before']), len(df.len[df.balance_mark == 'after'])"
   ]
  },
  {
   "cell_type": "markdown",
   "id": "56d1988a",
   "metadata": {},
   "source": [
    "По условию кейса нужно оставить только одну комбинацию оружия. Одна комбинация оружия может повторяться неограниченное количество раз в каждой выборке (before и after)."
   ]
  },
  {
   "cell_type": "code",
   "execution_count": 80,
   "id": "37f30031",
   "metadata": {},
   "outputs": [],
   "source": [
    "def func(data):\n",
    "    dataset = df[df.balance_mark == str(data)]\n",
    "    dataset = dataset.drop(columns=['battle_id'])\n",
    "    \n",
    "    dataset['index'] = range(10000)\n",
    "    dataset.set_index(['index'], inplace=True)\n",
    "    \n",
    "    dataset_list = []\n",
    "    for i in range(10000):\n",
    "        b = [dataset.unit_1[i], dataset.unit_2[i], dataset.unit_3[i], dataset.unit_4[i]] # список unit_i каждого наблюдения\n",
    "        dataset_list.append([b, dataset.len[i]]) \n",
    "        \n",
    "    dataset_list_final = []\n",
    "    combinations_dataset = []\n",
    "\n",
    "    \"\"\"\n",
    "    Так как нужно оставить только одну комбинацию оружия и все наблюдения с данной комбинацией, создадим 2 пустых списка.\n",
    "    В список (combinations_dataset) будем добавлять отсортированные комбинации unit. Список будет содержать только уникальные \n",
    "    наборы оружия. Сортировка значений в списке позволит избавиться от дубликатов. Списки, в которых разный порядок элементов, \n",
    "    при сортировке принимают одинаковый вид. В список (dataset_list_final) добавляем одну комбинацию оружия. Это самая\n",
    "    первая комбинация, которую мы считываем в цикле (по условию нам не говорится о том, какую комбинацию оставить, главное, \n",
    "    чтобы она была уникальная). В итоге, при проверке условия мы смотрим на наличие уникальной комбинации в \n",
    "    combinations_dataset. Если такой комбинации нет, добавляем ее, а в список dataset_list_final добавляем одну (первую)\n",
    "    комбинацию.\n",
    "    \"\"\"\n",
    "    \n",
    "    for i in range(10000):\n",
    "        if sorted(dataset_list[i][0]) not in combinations_dataset:\n",
    "            combinations_dataset.append(sorted(dataset_list[i][0]))\n",
    "            dataset_list_final.append(dataset_list[i][0])\n",
    "    \n",
    "    \"\"\"\n",
    "    Если комбинация оружия содержится в списке dataset_list_final, добавляем ее в датасет final_df вместе с длительностью боя и \n",
    "    отметкой совершения боя. В итоге в final_df будет находиться только одна комбинация каждого набора оружия и всевозможные\n",
    "    бои с этой комбинацией.\n",
    "    \"\"\"\n",
    "    \n",
    "    final_df = pd.DataFrame(columns=['set', 'time', 'type'])\n",
    "    for i in range(10000):\n",
    "        if dataset_list[i][0] in dataset_list_final:\n",
    "            final_df = final_df.append(pd.Series([dataset_list[i][0] \n",
    "                                                  ,dataset_list[i][1] \n",
    "                                                  ,data]\n",
    "                                                  ,index=['set','time','type'])\n",
    "                                                  ,ignore_index=True)\n",
    "    \n",
    "    \n",
    "    \n",
    "    return final_df.time "
   ]
  },
  {
   "cell_type": "code",
   "execution_count": 81,
   "id": "b7a02ac1",
   "metadata": {},
   "outputs": [
    {
     "data": {
      "text/plain": [
       "(1190, 1189)"
      ]
     },
     "execution_count": 81,
     "metadata": {},
     "output_type": "execute_result"
    }
   ],
   "source": [
    "len(func('before')), len(func('after'))"
   ]
  },
  {
   "cell_type": "code",
   "execution_count": 82,
   "id": "433b8942",
   "metadata": {},
   "outputs": [
    {
     "data": {
      "image/png": "[encoded data removed]",
      "text/plain": [
       "<Figure size 648x648 with 4 Axes>"
      ]
     },
     "metadata": {},
     "output_type": "display_data"
    }
   ],
   "source": [
    "fig, ax = plt.subplots(nrows=2, ncols=2)\n",
    "\n",
    "sns.histplot(func('before'), ax=ax[0][0])\n",
    "ax[0][0].set_title('Бои (до)')\n",
    "sns.histplot(func('after'), ax=ax[0][1])\n",
    "ax[0][1].set_title('Бои (после)')\n",
    "\n",
    "sns.boxplot(y = func('before'), ax=ax[1][0])\n",
    "sns.boxplot(y = func('after'), ax=ax[1][1])\n",
    "\n",
    "sns.set(rc={'figure.figsize':(9, 9)})"
   ]
  },
  {
   "cell_type": "code",
   "execution_count": 83,
   "id": "5330e882",
   "metadata": {},
   "outputs": [
    {
     "name": "stdout",
     "output_type": "stream",
     "text": [
      "20.03566386554622 23.737594617325485\n",
      "19.975 23.8\n",
      "2.8254531890930843 3.8180206588429395\n"
     ]
    }
   ],
   "source": [
    "print(func('before').mean(), func('after').mean())\n",
    "print(func('before').median(), func('after').median())\n",
    "print(func('before').std(), func('after').std())"
   ]
  },
  {
   "cell_type": "markdown",
   "id": "97c2126e",
   "metadata": {},
   "source": [
    "Меры центральной тенденции (мода, медиана) и мера изменчивости (стандартное отклонение) позволяют предположить, что выборки распределены нормальным образом (стандартное отклонение меньше среднего и меньше медианы). Но в выборке \"до изменений\" медианное значение меньше среднего. В выборке \"после изменений\" медианое значение превосходит среднее на ≈ 0.07, что не очень много. Данные наблюдения позволяют предположить, что в данных могут быть выбросы. Такое предположение подтверждает и визуаьный аналз графиков. На графике boxplot выборки \"после изменений\" видны заметные выбросы на промежутке от 5 до ≈ 12. Проверим свои предположения статистическим тестом Шапиро — Уилка. "
   ]
  },
  {
   "cell_type": "code",
   "execution_count": 84,
   "id": "4ce4dab1",
   "metadata": {},
   "outputs": [
    {
     "data": {
      "text/plain": [
       "(ShapiroResult(statistic=0.957329273223877, pvalue=3.768649346452314e-18),\n",
       " ShapiroResult(statistic=0.9565922021865845, pvalue=2.6450212644306944e-18))"
      ]
     },
     "execution_count": 84,
     "metadata": {},
     "output_type": "execute_result"
    }
   ],
   "source": [
    "stats.shapiro(func('before')), stats.shapiro(func('after'))"
   ]
  },
  {
   "cell_type": "markdown",
   "id": "34f3b3b1",
   "metadata": {},
   "source": [
    "P-value 2 выборок получился меньше уровня значимости в 0.05. Таким образом нулевая гипотеза о нормальности распределения отклоняется и можно сделать вывод, что данные распределены не нормальным образом. Для сравнения 2 выборок будем использовать непараметрический статистический критерий (Манна — Уитни), так как параметрический тест (например, Стьюдент) может плохо работать из-за ненормальности распределения данных."
   ]
  },
  {
   "cell_type": "markdown",
   "id": "0cdf7a84",
   "metadata": {},
   "source": [
    "H(0): Между значениями выборок before и after нет значимых различий;\n",
    "\n",
    "H(1): Между значениями выборок before и after есть значимые различия;"
   ]
  },
  {
   "cell_type": "code",
   "execution_count": 85,
   "id": "ccff84a7",
   "metadata": {},
   "outputs": [
    {
     "name": "stdout",
     "output_type": "stream",
     "text": [
      "MannwhitneyuResult(statistic=305583.0, pvalue=3.5598171667861057e-127)\n"
     ]
    }
   ],
   "source": [
    "print(stats.mannwhitneyu(func('before'), func('after')))"
   ]
  },
  {
   "cell_type": "markdown",
   "id": "c21a71d3",
   "metadata": {},
   "source": [
    "Отклоняем нулевую гипотезу. \n",
    "\n",
    "Вывод: Изменение в настройках баланса оружия значимо повлияло на длительность боя. Средняя продолжительность боя увеличилась. Но вместе с этим, стало меньше боев с продолжительностью боя меньше 20 секунд. Можно предположить, что оружие стало наносить меньше урона противнику => длительность боя возросла, а коротких боев стало меньше."
   ]
  },
  {
   "cell_type": "code",
   "execution_count": 86,
   "id": "65901cc9",
   "metadata": {},
   "outputs": [
    {
     "data": {
      "text/plain": [
       "(598, 132)"
      ]
     },
     "execution_count": 86,
     "metadata": {},
     "output_type": "execute_result"
    }
   ],
   "source": [
    "len(func('before')[func('before') <= 20]), len(func('after')[func('after') <= 20])"
   ]
  }
 ],
 "metadata": {
  "kernelspec": {
   "display_name": "Python 3 (ipykernel)",
   "language": "python",
   "name": "python3"
  },
  "language_info": {
   "codemirror_mode": {
    "name": "ipython",
    "version": 3
   },
   "file_extension": ".py",
   "mimetype": "text/x-python",
   "name": "python",
   "nbconvert_exporter": "python",
   "pygments_lexer": "ipython3",
   "version": "3.9.6"
  }
 },
 "nbformat": 4,
 "nbformat_minor": 5
}
